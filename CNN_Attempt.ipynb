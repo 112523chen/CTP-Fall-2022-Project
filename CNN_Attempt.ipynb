{
 "cells": [
  {
   "cell_type": "markdown",
   "metadata": {},
   "source": [
    "# Models\n",
    "\n",
    "MutinomialNB with TfidVectorizer on Original Dataset \n",
    "\n",
    "- cleaned: accuracy - 0.65\n",
    "\n",
    "- cleaned and stemmed: accuracy - 0.69\n",
    "\n",
    "- cleaned and lemmized: accuracy - 0.70\n",
    "\n",
    "MutinomialNB with CountVectorizer on Original Dataset \n",
    "\n",
    "- cleaned: accuracy - 0.77\n",
    "\n",
    "- cleaned and stemmed: accuracy - 0.77\n",
    "\n",
    "- cleaned and lemmized: accuracy - 0.80\n",
    "\n",
    "- cleaned and dropped surprised label: accuracy - 0.83 (Best Model on Original Dataset)\n",
    "\n",
    "MutinomialNB with TfidVectorizer on Second Dataset (First 10_000)\n",
    "\n",
    "- cleaned: accuracy - 0.87\n",
    "\n",
    "- cleaned and stemmed: accuracy - 0.84\n",
    "\n",
    "- cleaned and lemmized: accuracy - 0.87\n",
    "\n",
    "MutinomialNB with CountVectorizer on Second Dataset (First 10_000)\n",
    "\n",
    "- cleaned: accuracy - 0.86\n",
    "\n",
    "- cleaned and stemmed: accuracy - 0.84\n",
    "\n",
    "- cleaned and lemmized: accuracy - 0.88 (Best Model on Second Dataset) (Live Model)"
   ]
  },
  {
   "cell_type": "markdown",
   "metadata": {},
   "source": [
    "# Importing Python Libraries"
   ]
  },
  {
   "cell_type": "code",
   "execution_count": 2,
   "metadata": {},
   "outputs": [],
   "source": [
    "# Import File Based Libraries\n",
    "import pickle\n",
    "\n",
    "# Import Data Wrangling Libraries\n",
    "import pandas as pd\n",
    "import numpy as np \n",
    "import re\n",
    "\n",
    "# Import Data Visualization Libraries\n",
    "import matplotlib.pyplot as plt\n",
    "import seaborn as sns\n",
    "\n",
    "# Import Machine Learning Libraries\n",
    "from sklearn.feature_extraction.text import CountVectorizer\n",
    "from sklearn.naive_bayes import MultinomialNB\n",
    "from sklearn.feature_extraction.text import TfidfVectorizer\n",
    "from sklearn.linear_model import SGDClassifier\n",
    "from sklearn.linear_model import LogisticRegression\n",
    "\n",
    "from sklearn.model_selection import train_test_split\n",
    "from sklearn.model_selection import cross_val_score\n",
    "from sklearn.model_selection import cross_validate\n",
    "from sklearn.model_selection import KFold\n",
    "from sklearn.model_selection import GridSearchCV\n",
    "from sklearn.metrics import plot_confusion_matrix\n",
    "from sklearn.metrics import confusion_matrix, ConfusionMatrixDisplay\n",
    "from sklearn.metrics import classification_report\n",
    "from sklearn.metrics import precision_score, recall_score, f1_score\n",
    "\n",
    "# Import NLP Libraries\n",
    "from nltk.corpus import stopwords\n",
    "from nltk import word_tokenize\n",
    "from nltk.stem import PorterStemmer\n",
    "from nltk.stem import WordNetLemmatizer"
   ]
  },
  {
   "cell_type": "code",
   "execution_count": 71,
   "metadata": {},
   "outputs": [],
   "source": [
    "import numpy as np\n",
    "import os\n",
    "import tensorflow\n",
    "from tensorflow import keras\n",
    "\n",
    " \n",
    "# from keras.preprocessing.text import Tokenizer\n",
    "# from keras.preprocessing.sequence import pad_sequences\n",
    "# from keras.utils import to_categorical, np_utils\n",
    "from tensorflow.keras.models import Model\n",
    "from keras.models import Sequential\n",
    "from keras.layers import Dense, Input, Flatten, Dropout, Activation\n",
    "from keras.layers import Conv1D, MaxPooling1D, GlobalMaxPooling1D, Embedding, Dropout\n",
    "from keras.preprocessing.text import Tokenizer\n",
    "from keras.preprocessing.sequence import pad_sequences"
   ]
  },
  {
   "cell_type": "markdown",
   "metadata": {},
   "source": [
    "# Creating Dataframes from Original Dataset"
   ]
  },
  {
   "cell_type": "code",
   "execution_count": 41,
   "metadata": {},
   "outputs": [
    {
     "data": {
      "text/html": [
       "<div>\n",
       "<style scoped>\n",
       "    .dataframe tbody tr th:only-of-type {\n",
       "        vertical-align: middle;\n",
       "    }\n",
       "\n",
       "    .dataframe tbody tr th {\n",
       "        vertical-align: top;\n",
       "    }\n",
       "\n",
       "    .dataframe thead th {\n",
       "        text-align: right;\n",
       "    }\n",
       "</style>\n",
       "<table border=\"1\" class=\"dataframe\">\n",
       "  <thead>\n",
       "    <tr style=\"text-align: right;\">\n",
       "      <th></th>\n",
       "      <th>text</th>\n",
       "      <th>label</th>\n",
       "    </tr>\n",
       "  </thead>\n",
       "  <tbody>\n",
       "    <tr>\n",
       "      <th>0</th>\n",
       "      <td>i didnt feel humiliated</td>\n",
       "      <td>0</td>\n",
       "    </tr>\n",
       "    <tr>\n",
       "      <th>1</th>\n",
       "      <td>i can go from feeling so hopeless to so damned...</td>\n",
       "      <td>0</td>\n",
       "    </tr>\n",
       "    <tr>\n",
       "      <th>2</th>\n",
       "      <td>im grabbing a minute to post i feel greedy wrong</td>\n",
       "      <td>3</td>\n",
       "    </tr>\n",
       "    <tr>\n",
       "      <th>3</th>\n",
       "      <td>i am ever feeling nostalgic about the fireplac...</td>\n",
       "      <td>2</td>\n",
       "    </tr>\n",
       "    <tr>\n",
       "      <th>4</th>\n",
       "      <td>i am feeling grouchy</td>\n",
       "      <td>3</td>\n",
       "    </tr>\n",
       "  </tbody>\n",
       "</table>\n",
       "</div>"
      ],
      "text/plain": [
       "                                                text  label\n",
       "0                            i didnt feel humiliated      0\n",
       "1  i can go from feeling so hopeless to so damned...      0\n",
       "2   im grabbing a minute to post i feel greedy wrong      3\n",
       "3  i am ever feeling nostalgic about the fireplac...      2\n",
       "4                               i am feeling grouchy      3"
      ]
     },
     "execution_count": 41,
     "metadata": {},
     "output_type": "execute_result"
    }
   ],
   "source": [
    "#split up data with train and test \n",
    "train_df = pd.read_csv(\"data/original_data/training.csv\")\n",
    "test_df = pd.read_csv(\"data/original_data/test.csv\")\n",
    "\n",
    "train_df.head()"
   ]
  },
  {
   "cell_type": "code",
   "execution_count": 69,
   "metadata": {},
   "outputs": [],
   "source": [
    "X_train_text, Y_train = [], []\n",
    "\n",
    "for X in train_df['text']:\n",
    "    X_train_text.append(X)\n",
    "    \n",
    "for Y in train_df['label']:\n",
    "    Y_train.append(Y)\n",
    "    \n",
    "X_test_text, Y_test = [], []\n",
    "\n",
    "for X in test_df['text']:\n",
    "    X_test_text.append(X)\n",
    "    \n",
    "for Y in test_df['label']:\n",
    "    Y_test.append(Y)"
   ]
  },
  {
   "cell_type": "code",
   "execution_count": 70,
   "metadata": {},
   "outputs": [
    {
     "data": {
      "text/plain": [
       "(16000, 2000)"
      ]
     },
     "execution_count": 70,
     "metadata": {},
     "output_type": "execute_result"
    }
   ],
   "source": [
    "unique_classes = list(set(Y_train))\n",
    "target_classes = [\"sadness\", \"joy\", \"love\", \"anger\", \"fear\", \"surprise\"]\n",
    "\n",
    "## Subtracted 1 from labels to bring range from 1-4 to 0-3\n",
    "Y_train, Y_test = np.array(Y_train) - 1, np.array(Y_test) - 1\n",
    "\n",
    "len(X_train_text), len(X_test_text)"
   ]
  },
  {
   "cell_type": "code",
   "execution_count": 72,
   "metadata": {},
   "outputs": [
    {
     "name": "stdout",
     "output_type": "stream",
     "text": [
      "[[   1  138    2  642    0    0    0    0    0    0    0    0    0    0\n",
      "     0    0    0    0    0    0    0    0    0    0    0    0    0    0\n",
      "     0    0    0    0    0    0    0    0    0    0    0    0    0    0\n",
      "     0    0    0    0    0    0    0    0]\n",
      " [   1   39  100   59    7   14  532    4   14 3764  548   31   59   61\n",
      "   128  146   73 1593    3   21 1344    0    0    0    0    0    0    0\n",
      "     0    0    0    0    0    0    0    0    0    0    0    0    0    0\n",
      "     0    0    0    0    0    0    0    0]\n",
      " [  15 2945    6 1172    4  289    1    2  462  414    0    0    0    0\n",
      "     0    0    0    0    0    0    0    0    0    0    0    0    0    0\n",
      "     0    0    0    0    0    0    0    0    0    0    0    0    0    0\n",
      "     0    0    0    0    0    0    0    0]]\n"
     ]
    },
    {
     "data": {
      "text/plain": [
       "((16000, 50), (2000, 50))"
      ]
     },
     "execution_count": 72,
     "metadata": {},
     "output_type": "execute_result"
    }
   ],
   "source": [
    "max_tokens = 50 ## Hyperparameter\n",
    "\n",
    "tokenizer = Tokenizer()\n",
    "tokenizer.fit_on_texts(X_train_text+X_test_text)\n",
    "\n",
    "## Vectorizing data to keep 50 words per sample.\n",
    "X_train_vect = pad_sequences(tokenizer.texts_to_sequences(X_train_text), maxlen=max_tokens, padding=\"post\", truncating=\"post\", value=0.)\n",
    "X_test_vect  = pad_sequences(tokenizer.texts_to_sequences(X_test_text), maxlen=max_tokens, padding=\"post\", truncating=\"post\", value=0.)\n",
    "\n",
    "print(X_train_vect[:3])\n",
    "\n",
    "X_train_vect.shape, X_test_vect.shape"
   ]
  },
  {
   "cell_type": "code",
   "execution_count": 73,
   "metadata": {},
   "outputs": [
    {
     "name": "stdout",
     "output_type": "stream",
     "text": [
      "confused\n",
      "i didnt feel humiliated\n"
     ]
    }
   ],
   "source": [
    "## What is word 444\n",
    "\n",
    "print(tokenizer.index_word[444])\n",
    "\n",
    "## How many times it comes in first text document??\n",
    "\n",
    "print(X_train_text[0]) ## 2 times"
   ]
  },
  {
   "cell_type": "code",
   "execution_count": 74,
   "metadata": {},
   "outputs": [
    {
     "name": "stdout",
     "output_type": "stream",
     "text": [
      "Model: \"model\"\n",
      "_________________________________________________________________\n",
      " Layer (type)                Output Shape              Param #   \n",
      "=================================================================\n",
      " input_1 (InputLayer)        [(None, 50)]              0         \n",
      "                                                                 \n",
      " embedding (Embedding)       (None, 50, 128)           2071680   \n",
      "                                                                 \n",
      " conv1d (Conv1D)             (None, 50, 32)            28704     \n",
      "                                                                 \n",
      " tf.math.reduce_max (TFOpLam  (None, 32)               0         \n",
      " bda)                                                            \n",
      "                                                                 \n",
      " dense (Dense)               (None, 6)                 198       \n",
      "                                                                 \n",
      "=================================================================\n",
      "Total params: 2,100,582\n",
      "Trainable params: 2,100,582\n",
      "Non-trainable params: 0\n",
      "_________________________________________________________________\n"
     ]
    },
    {
     "name": "stderr",
     "output_type": "stream",
     "text": [
      "2022-11-28 21:33:36.905368: I tensorflow/core/platform/cpu_feature_guard.cc:151] This TensorFlow binary is optimized with oneAPI Deep Neural Network Library (oneDNN) to use the following CPU instructions in performance-critical operations:  AVX2 FMA\n",
      "To enable them in other operations, rebuild TensorFlow with the appropriate compiler flags.\n"
     ]
    }
   ],
   "source": [
    "embed_len = 128\n",
    "\n",
    "inputs = Input(shape=(max_tokens, ))\n",
    "embeddings_layer = Embedding(input_dim=len(tokenizer.word_index)+1, output_dim=embed_len,  input_length=max_tokens)\n",
    "conv = Conv1D(32, 7, padding=\"same\") ## Channels last\n",
    "dense = Dense(len(target_classes), activation=\"softmax\")\n",
    "\n",
    "x = embeddings_layer(inputs)\n",
    "x = conv(x)\n",
    "x = tensorflow.reduce_max(x, axis=1)\n",
    "output = dense(x)\n",
    "\n",
    "model = Model(inputs=inputs, outputs=output)\n",
    "\n",
    "model.summary()\n"
   ]
  },
  {
   "cell_type": "code",
   "execution_count": 75,
   "metadata": {},
   "outputs": [],
   "source": [
    "model.compile(\"adam\", \"sparse_categorical_crossentropy\", metrics=[\"accuracy\"])"
   ]
  },
  {
   "cell_type": "code",
   "execution_count": 76,
   "metadata": {},
   "outputs": [
    {
     "name": "stdout",
     "output_type": "stream",
     "text": [
      "Epoch 1/8\n"
     ]
    },
    {
     "name": "stderr",
     "output_type": "stream",
     "text": [
      "2022-11-28 21:34:08.664645: W tensorflow/core/framework/op_kernel.cc:1745] OP_REQUIRES failed at sparse_xent_op.cc:103 : INVALID_ARGUMENT: Received a label value of -1 which is outside the valid range of [0, 6).  Label values: 0 0 -1 4 3 -1 -1 0 0 3 3 -1 0 -1 -1 2 0 -1 0 0 0 0 0 0 3 3 -1 -1 0 2 0 -1 2 1 0 3 4 2 1 1 1 1 0 0 0 0 3 3 3 3 2 -1 -1 0 -1 -1 0 3 0 0 2 -1 3 0 1 0 0 -1 -1 3 0 3 4 4 0 0 0 0 0 0 -1 0 1 1 -1 0 0 1 -1 0 0 0 1 -1 0 -1 2 -1 0 0 -1 3 -1 0 -1 0 1 -1 -1 0 -1 0 0 2 2 2 -1 1 1 3 0 4 -1 -1 -1 -1 -1 -1 0 3 0 -1 2 0 -1 -1 2 0 0 -1 -1 -1 0 -1 2 -1 -1 2 0 -1 -1 2 3 0 -1 3 0 0 -1 0 2 2 -1 -1 1 2 0 2 3 3 2 0 0 4 0 0 -1 -1 0 2 2 0 1 0 2 0 2 1 3 -1 4 3 -1 1 -1 0 2 0 2 1 1 3 -1 3 2 -1 0 3 0 3 -1 0 0 -1 2 -1 3 -1 0 0 0 0 2 4 0 -1 -1 -1 -1 0 2 3 -1 1 1 3 0 4 1 0 0 0 0 -1 -1 0 2 -1 0 -1 1 -1 3 0 -1 3 -1 3 0 2 4 2 0 -1 2 0 2 0 -1 1 -1 0 0 4 4 3 -1 -1 2 2 2 -1 -1 3 0 -1 1 -1 -1 -1 1 0 0 -1 3 -1 2 3 1 -1 1 0 -1 0 2 2 0 3 0 0 2 1 3 3 0 1 2 0 0 -1 2 -1 3 4 0 0 -1 0 -1 -1 -1 3 2 3 -1 0 0 2 1 0 0 2 3 2 3 -1 2 0 0 -1 3 2 0 -1 0 0 0 -1 0 1 3 0 0 0 0 1 -1 3 0 -1 -1 2 -1 -1 0 2 -1 2 3 -1 4 2 2 -1 2 0 -1 0 3 -1 0 0 3 0 -1 3 0 0 -1 0 -1 1 -1 0 0 3 0 0 3 0 0 -1 3 2 -1 -1 0 2 2 1 1 0 1 3 2 2 4 -1 -1 2 0 0 0 2 -1 0 0 0 3 2 -1 0 2 0 0 0 2 2 -1 0 0 3 -1 0 1 -1 0 3 -1 0 -1 3 0 4 3 -1 3 -1 -1 0 -1 2 0 1 0 0 4 0 0 -1 -1 -1 0 0 -1 -1 0 2 0 -1 0 -1 0 -1 0 0 1 -1 4 -1 -1 -1 -1 2 -1 0 0 -1 3 2 -1 0 0 -1 3 -1 0 -1 0 1 3 2 2 -1 -1 0 3 1 -1 2 0 2 -1 0 -1 0 0 0 0 -1 0 0 3 -1 2 0 2 0 3 -1 3 0 -1 -1 0 2 0 -1 -1 1 0 0 1 4 0 0 -1 3 3 2 4 4 1 0 3 0 -1 0 0 -1 0 -1 -1 -1 0 2 0 0 -1 0 -1 0 0 4 0 2 0 -1 3 0 0 -1 0 -1 0 0 -1 3 -1 0 0 0 -1 -1 3 0 3 1 3 -1 3 0 -1 3 3 3 0 3 3 0 3 2 0 0 -1 0 2 -1 -1 -1 -1 -1 3 0 0 3 -1 3 3 -1 0 0 2 -1 -1 -1 0 2 0 2 -1 2 0 0 -1 0 3 -1 3 -1 0 2 0 3 0 -1 -1 0 -1 -1 3 -1 3 -1 0 0 1 0 -1 0 -1 0 0 1 0 0 0 0 2 0 -1 0 -1 -1 1 1 0 0 0 2 2 0 3 -1 -1 0 0 -1 -1 -1 4 0 -1 -1 0 4 2 -1 0 -1 0 4 -1 2 1 -1 0 3 0 -1 -1 0 -1 0 2 -1 2 3 0 0 2 0 4 -1 0 -1 2 1 -1 0 2 3 3 3 3 0 3 -1 0 3 0 3 2 0 0 0 2 -1 -1 -1 0 0 0 1 1 -1 3 0 2 -1 0 3 1 -1 -1 3 3 3 -1 -1 -1 1 -1 0 0 0 2 -1 1 0 1 1 -1 -1 0 2 0 0 0 0 2 0 -1 2 0 0 -1 1 -1 -1 0 -1 -1 0 -1 3 2 -1 3 0 0 2 -1 2 2 -1 3 -1 2 3 2 0 2 -1 3 3 0 0 -1 -1 0 0 2 -1 3 0 0 2 -1 2 0 0 0 0 2 -1 -1 -1 -1 0 -1 3 3 3 -1 3 0 2 2 0 -1 1 0 -1 2 0 -1 -1 -1 -1 1 1 1 3 3 -1 0 4 0 3 4 -1 2 0 0 0 0 -1 0 3 0 4 -1 -1 1 4 0 0 -1 -1 3 2 0 0 -1 0 0 3 2 -1 0 -1 -1 -1 -1 3 2 2 -1 -1 1 3 1 1 1 -1 2 -1 -1 1 0 3 3 0 0 -1 3 -1 4 1 4 0 2 2 0 0 1 -1 2 0 0 2 4 3 -1 3 -1 1 0 4 0 3 0 3 0 3 0 2 0 -1 2 3 0 0 -1 3 1 0 0 0 1 2 4 2 0 1 0 1 0 3 0 -1 0 2\n"
     ]
    },
    {
     "ename": "InvalidArgumentError",
     "evalue": "Graph execution error:\n\nDetected at node 'sparse_categorical_crossentropy/SparseSoftmaxCrossEntropyWithLogits/SparseSoftmaxCrossEntropyWithLogits' defined at (most recent call last):\n    File \"/Users/idriod/opt/anaconda3/lib/python3.9/runpy.py\", line 197, in _run_module_as_main\n      return _run_code(code, main_globals, None,\n    File \"/Users/idriod/opt/anaconda3/lib/python3.9/runpy.py\", line 87, in _run_code\n      exec(code, run_globals)\n    File \"/Users/idriod/opt/anaconda3/lib/python3.9/site-packages/ipykernel_launcher.py\", line 16, in <module>\n      app.launch_new_instance()\n    File \"/Users/idriod/opt/anaconda3/lib/python3.9/site-packages/traitlets/config/application.py\", line 846, in launch_instance\n      app.start()\n    File \"/Users/idriod/opt/anaconda3/lib/python3.9/site-packages/ipykernel/kernelapp.py\", line 677, in start\n      self.io_loop.start()\n    File \"/Users/idriod/opt/anaconda3/lib/python3.9/site-packages/tornado/platform/asyncio.py\", line 199, in start\n      self.asyncio_loop.run_forever()\n    File \"/Users/idriod/opt/anaconda3/lib/python3.9/asyncio/base_events.py\", line 596, in run_forever\n      self._run_once()\n    File \"/Users/idriod/opt/anaconda3/lib/python3.9/asyncio/base_events.py\", line 1890, in _run_once\n      handle._run()\n    File \"/Users/idriod/opt/anaconda3/lib/python3.9/asyncio/events.py\", line 80, in _run\n      self._context.run(self._callback, *self._args)\n    File \"/Users/idriod/opt/anaconda3/lib/python3.9/site-packages/ipykernel/kernelbase.py\", line 457, in dispatch_queue\n      await self.process_one()\n    File \"/Users/idriod/opt/anaconda3/lib/python3.9/site-packages/ipykernel/kernelbase.py\", line 446, in process_one\n      await dispatch(*args)\n    File \"/Users/idriod/opt/anaconda3/lib/python3.9/site-packages/ipykernel/kernelbase.py\", line 353, in dispatch_shell\n      await result\n    File \"/Users/idriod/opt/anaconda3/lib/python3.9/site-packages/ipykernel/kernelbase.py\", line 648, in execute_request\n      reply_content = await reply_content\n    File \"/Users/idriod/opt/anaconda3/lib/python3.9/site-packages/ipykernel/ipkernel.py\", line 353, in do_execute\n      res = shell.run_cell(code, store_history=store_history, silent=silent)\n    File \"/Users/idriod/opt/anaconda3/lib/python3.9/site-packages/ipykernel/zmqshell.py\", line 533, in run_cell\n      return super(ZMQInteractiveShell, self).run_cell(*args, **kwargs)\n    File \"/Users/idriod/opt/anaconda3/lib/python3.9/site-packages/IPython/core/interactiveshell.py\", line 2901, in run_cell\n      result = self._run_cell(\n    File \"/Users/idriod/opt/anaconda3/lib/python3.9/site-packages/IPython/core/interactiveshell.py\", line 2947, in _run_cell\n      return runner(coro)\n    File \"/Users/idriod/opt/anaconda3/lib/python3.9/site-packages/IPython/core/async_helpers.py\", line 68, in _pseudo_sync_runner\n      coro.send(None)\n    File \"/Users/idriod/opt/anaconda3/lib/python3.9/site-packages/IPython/core/interactiveshell.py\", line 3172, in run_cell_async\n      has_raised = await self.run_ast_nodes(code_ast.body, cell_name,\n    File \"/Users/idriod/opt/anaconda3/lib/python3.9/site-packages/IPython/core/interactiveshell.py\", line 3364, in run_ast_nodes\n      if (await self.run_code(code, result,  async_=asy)):\n    File \"/Users/idriod/opt/anaconda3/lib/python3.9/site-packages/IPython/core/interactiveshell.py\", line 3444, in run_code\n      exec(code_obj, self.user_global_ns, self.user_ns)\n    File \"/var/folders/hh/qk4l6xwd65q9lfgxhl3nkd4w0000gn/T/ipykernel_814/1533788128.py\", line 1, in <module>\n      history = model.fit(X_train_vect, Y_train, batch_size=1024, epochs=8, validation_data=(X_test_vect, Y_test))\n    File \"/Users/idriod/opt/anaconda3/lib/python3.9/site-packages/keras/utils/traceback_utils.py\", line 64, in error_handler\n      return fn(*args, **kwargs)\n    File \"/Users/idriod/opt/anaconda3/lib/python3.9/site-packages/keras/engine/training.py\", line 1384, in fit\n      tmp_logs = self.train_function(iterator)\n    File \"/Users/idriod/opt/anaconda3/lib/python3.9/site-packages/keras/engine/training.py\", line 1021, in train_function\n      return step_function(self, iterator)\n    File \"/Users/idriod/opt/anaconda3/lib/python3.9/site-packages/keras/engine/training.py\", line 1010, in step_function\n      outputs = model.distribute_strategy.run(run_step, args=(data,))\n    File \"/Users/idriod/opt/anaconda3/lib/python3.9/site-packages/keras/engine/training.py\", line 1000, in run_step\n      outputs = model.train_step(data)\n    File \"/Users/idriod/opt/anaconda3/lib/python3.9/site-packages/keras/engine/training.py\", line 860, in train_step\n      loss = self.compute_loss(x, y, y_pred, sample_weight)\n    File \"/Users/idriod/opt/anaconda3/lib/python3.9/site-packages/keras/engine/training.py\", line 918, in compute_loss\n      return self.compiled_loss(\n    File \"/Users/idriod/opt/anaconda3/lib/python3.9/site-packages/keras/engine/compile_utils.py\", line 201, in __call__\n      loss_value = loss_obj(y_t, y_p, sample_weight=sw)\n    File \"/Users/idriod/opt/anaconda3/lib/python3.9/site-packages/keras/losses.py\", line 141, in __call__\n      losses = call_fn(y_true, y_pred)\n    File \"/Users/idriod/opt/anaconda3/lib/python3.9/site-packages/keras/losses.py\", line 245, in call\n      return ag_fn(y_true, y_pred, **self._fn_kwargs)\n    File \"/Users/idriod/opt/anaconda3/lib/python3.9/site-packages/keras/losses.py\", line 1862, in sparse_categorical_crossentropy\n      return backend.sparse_categorical_crossentropy(\n    File \"/Users/idriod/opt/anaconda3/lib/python3.9/site-packages/keras/backend.py\", line 5202, in sparse_categorical_crossentropy\n      res = tf.nn.sparse_softmax_cross_entropy_with_logits(\nNode: 'sparse_categorical_crossentropy/SparseSoftmaxCrossEntropyWithLogits/SparseSoftmaxCrossEntropyWithLogits'\nReceived a label value of -1 which is outside the valid range of [0, 6).  Label values: 0 0 -1 4 3 -1 -1 0 0 3 3 -1 0 -1 -1 2 0 -1 0 0 0 0 0 0 3 3 -1 -1 0 2 0 -1 2 1 0 3 4 2 1 1 1 1 0 0 0 0 3 3 3 3 2 -1 -1 0 -1 -1 0 3 0 0 2 -1 3 0 1 0 0 -1 -1 3 0 3 4 4 0 0 0 0 0 0 -1 0 1 1 -1 0 0 1 -1 0 0 0 1 -1 0 -1 2 -1 0 0 -1 3 -1 0 -1 0 1 -1 -1 0 -1 0 0 2 2 2 -1 1 1 3 0 4 -1 -1 -1 -1 -1 -1 0 3 0 -1 2 0 -1 -1 2 0 0 -1 -1 -1 0 -1 2 -1 -1 2 0 -1 -1 2 3 0 -1 3 0 0 -1 0 2 2 -1 -1 1 2 0 2 3 3 2 0 0 4 0 0 -1 -1 0 2 2 0 1 0 2 0 2 1 3 -1 4 3 -1 1 -1 0 2 0 2 1 1 3 -1 3 2 -1 0 3 0 3 -1 0 0 -1 2 -1 3 -1 0 0 0 0 2 4 0 -1 -1 -1 -1 0 2 3 -1 1 1 3 0 4 1 0 0 0 0 -1 -1 0 2 -1 0 -1 1 -1 3 0 -1 3 -1 3 0 2 4 2 0 -1 2 0 2 0 -1 1 -1 0 0 4 4 3 -1 -1 2 2 2 -1 -1 3 0 -1 1 -1 -1 -1 1 0 0 -1 3 -1 2 3 1 -1 1 0 -1 0 2 2 0 3 0 0 2 1 3 3 0 1 2 0 0 -1 2 -1 3 4 0 0 -1 0 -1 -1 -1 3 2 3 -1 0 0 2 1 0 0 2 3 2 3 -1 2 0 0 -1 3 2 0 -1 0 0 0 -1 0 1 3 0 0 0 0 1 -1 3 0 -1 -1 2 -1 -1 0 2 -1 2 3 -1 4 2 2 -1 2 0 -1 0 3 -1 0 0 3 0 -1 3 0 0 -1 0 -1 1 -1 0 0 3 0 0 3 0 0 -1 3 2 -1 -1 0 2 2 1 1 0 1 3 2 2 4 -1 -1 2 0 0 0 2 -1 0 0 0 3 2 -1 0 2 0 0 0 2 2 -1 0 0 3 -1 0 1 -1 0 3 -1 0 -1 3 0 4 3 -1 3 -1 -1 0 -1 2 0 1 0 0 4 0 0 -1 -1 -1 0 0 -1 -1 0 2 0 -1 0 -1 0 -1 0 0 1 -1 4 -1 -1 -1 -1 2 -1 0 0 -1 3 2 -1 0 0 -1 3 -1 0 -1 0 1 3 2 2 -1 -1 0 3 1 -1 2 0 2 -1 0 -1 0 0 0 0 -1 0 0 3 -1 2 0 2 0 3 -1 3 0 -1 -1 0 2 0 -1 -1 1 0 0 1 4 0 0 -1 3 3 2 4 4 1 0 3 0 -1 0 0 -1 0 -1 -1 -1 0 2 0 0 -1 0 -1 0 0 4 0 2 0 -1 3 0 0 -1 0 -1 0 0 -1 3 -1 0 0 0 -1 -1 3 0 3 1 3 -1 3 0 -1 3 3 3 0 3 3 0 3 2 0 0 -1 0 2 -1 -1 -1 -1 -1 3 0 0 3 -1 3 3 -1 0 0 2 -1 -1 -1 0 2 0 2 -1 2 0 0 -1 0 3 -1 3 -1 0 2 0 3 0 -1 -1 0 -1 -1 3 -1 3 -1 0 0 1 0 -1 0 -1 0 0 1 0 0 0 0 2 0 -1 0 -1 -1 1 1 0 0 0 2 2 0 3 -1 -1 0 0 -1 -1 -1 4 0 -1 -1 0 4 2 -1 0 -1 0 4 -1 2 1 -1 0 3 0 -1 -1 0 -1 0 2 -1 2 3 0 0 2 0 4 -1 0 -1 2 1 -1 0 2 3 3 3 3 0 3 -1 0 3 0 3 2 0 0 0 2 -1 -1 -1 0 0 0 1 1 -1 3 0 2 -1 0 3 1 -1 -1 3 3 3 -1 -1 -1 1 -1 0 0 0 2 -1 1 0 1 1 -1 -1 0 2 0 0 0 0 2 0 -1 2 0 0 -1 1 -1 -1 0 -1 -1 0 -1 3 2 -1 3 0 0 2 -1 2 2 -1 3 -1 2 3 2 0 2 -1 3 3 0 0 -1 -1 0 0 2 -1 3 0 0 2 -1 2 0 0 0 0 2 -1 -1 -1 -1 0 -1 3 3 3 -1 3 0 2 2 0 -1 1 0 -1 2 0 -1 -1 -1 -1 1 1 1 3 3 -1 0 4 0 3 4 -1 2 0 0 0 0 -1 0 3 0 4 -1 -1 1 4 0 0 -1 -1 3 2 0 0 -1 0 0 3 2 -1 0 -1 -1 -1 -1 3 2 2 -1 -1 1 3 1 1 1 -1 2 -1 -1 1 0 3 3 0 0 -1 3 -1 4 1 4 0 2 2 0 0 1 -1 2 0 0 2 4 3 -1 3 -1 1 0 4 0 3 0 3 0 3 0 2 0 -1 2 3 0 0 -1 3 1 0 0 0 1 2 4 2 0 1 0 1 0 3 0 -1 0 2\n\t [[{{node sparse_categorical_crossentropy/SparseSoftmaxCrossEntropyWithLogits/SparseSoftmaxCrossEntropyWithLogits}}]] [Op:__inference_train_function_732]",
     "output_type": "error",
     "traceback": [
      "\u001b[0;31m---------------------------------------------------------------------------\u001b[0m",
      "\u001b[0;31mInvalidArgumentError\u001b[0m                      Traceback (most recent call last)",
      "\u001b[0;32m/var/folders/hh/qk4l6xwd65q9lfgxhl3nkd4w0000gn/T/ipykernel_814/1533788128.py\u001b[0m in \u001b[0;36m<module>\u001b[0;34m\u001b[0m\n\u001b[0;32m----> 1\u001b[0;31m \u001b[0mhistory\u001b[0m \u001b[0;34m=\u001b[0m \u001b[0mmodel\u001b[0m\u001b[0;34m.\u001b[0m\u001b[0mfit\u001b[0m\u001b[0;34m(\u001b[0m\u001b[0mX_train_vect\u001b[0m\u001b[0;34m,\u001b[0m \u001b[0mY_train\u001b[0m\u001b[0;34m,\u001b[0m \u001b[0mbatch_size\u001b[0m\u001b[0;34m=\u001b[0m\u001b[0;36m1024\u001b[0m\u001b[0;34m,\u001b[0m \u001b[0mepochs\u001b[0m\u001b[0;34m=\u001b[0m\u001b[0;36m8\u001b[0m\u001b[0;34m,\u001b[0m \u001b[0mvalidation_data\u001b[0m\u001b[0;34m=\u001b[0m\u001b[0;34m(\u001b[0m\u001b[0mX_test_vect\u001b[0m\u001b[0;34m,\u001b[0m \u001b[0mY_test\u001b[0m\u001b[0;34m)\u001b[0m\u001b[0;34m)\u001b[0m\u001b[0;34m\u001b[0m\u001b[0;34m\u001b[0m\u001b[0m\n\u001b[0m",
      "\u001b[0;32m~/opt/anaconda3/lib/python3.9/site-packages/keras/utils/traceback_utils.py\u001b[0m in \u001b[0;36merror_handler\u001b[0;34m(*args, **kwargs)\u001b[0m\n\u001b[1;32m     65\u001b[0m     \u001b[0;32mexcept\u001b[0m \u001b[0mException\u001b[0m \u001b[0;32mas\u001b[0m \u001b[0me\u001b[0m\u001b[0;34m:\u001b[0m  \u001b[0;31m# pylint: disable=broad-except\u001b[0m\u001b[0;34m\u001b[0m\u001b[0;34m\u001b[0m\u001b[0m\n\u001b[1;32m     66\u001b[0m       \u001b[0mfiltered_tb\u001b[0m \u001b[0;34m=\u001b[0m \u001b[0m_process_traceback_frames\u001b[0m\u001b[0;34m(\u001b[0m\u001b[0me\u001b[0m\u001b[0;34m.\u001b[0m\u001b[0m__traceback__\u001b[0m\u001b[0;34m)\u001b[0m\u001b[0;34m\u001b[0m\u001b[0;34m\u001b[0m\u001b[0m\n\u001b[0;32m---> 67\u001b[0;31m       \u001b[0;32mraise\u001b[0m \u001b[0me\u001b[0m\u001b[0;34m.\u001b[0m\u001b[0mwith_traceback\u001b[0m\u001b[0;34m(\u001b[0m\u001b[0mfiltered_tb\u001b[0m\u001b[0;34m)\u001b[0m \u001b[0;32mfrom\u001b[0m \u001b[0;32mNone\u001b[0m\u001b[0;34m\u001b[0m\u001b[0;34m\u001b[0m\u001b[0m\n\u001b[0m\u001b[1;32m     68\u001b[0m     \u001b[0;32mfinally\u001b[0m\u001b[0;34m:\u001b[0m\u001b[0;34m\u001b[0m\u001b[0;34m\u001b[0m\u001b[0m\n\u001b[1;32m     69\u001b[0m       \u001b[0;32mdel\u001b[0m \u001b[0mfiltered_tb\u001b[0m\u001b[0;34m\u001b[0m\u001b[0;34m\u001b[0m\u001b[0m\n",
      "\u001b[0;32m~/opt/anaconda3/lib/python3.9/site-packages/tensorflow/python/eager/execute.py\u001b[0m in \u001b[0;36mquick_execute\u001b[0;34m(op_name, num_outputs, inputs, attrs, ctx, name)\u001b[0m\n\u001b[1;32m     52\u001b[0m   \u001b[0;32mtry\u001b[0m\u001b[0;34m:\u001b[0m\u001b[0;34m\u001b[0m\u001b[0;34m\u001b[0m\u001b[0m\n\u001b[1;32m     53\u001b[0m     \u001b[0mctx\u001b[0m\u001b[0;34m.\u001b[0m\u001b[0mensure_initialized\u001b[0m\u001b[0;34m(\u001b[0m\u001b[0;34m)\u001b[0m\u001b[0;34m\u001b[0m\u001b[0;34m\u001b[0m\u001b[0m\n\u001b[0;32m---> 54\u001b[0;31m     tensors = pywrap_tfe.TFE_Py_Execute(ctx._handle, device_name, op_name,\n\u001b[0m\u001b[1;32m     55\u001b[0m                                         inputs, attrs, num_outputs)\n\u001b[1;32m     56\u001b[0m   \u001b[0;32mexcept\u001b[0m \u001b[0mcore\u001b[0m\u001b[0;34m.\u001b[0m\u001b[0m_NotOkStatusException\u001b[0m \u001b[0;32mas\u001b[0m \u001b[0me\u001b[0m\u001b[0;34m:\u001b[0m\u001b[0;34m\u001b[0m\u001b[0;34m\u001b[0m\u001b[0m\n",
      "\u001b[0;31mInvalidArgumentError\u001b[0m: Graph execution error:\n\nDetected at node 'sparse_categorical_crossentropy/SparseSoftmaxCrossEntropyWithLogits/SparseSoftmaxCrossEntropyWithLogits' defined at (most recent call last):\n    File \"/Users/idriod/opt/anaconda3/lib/python3.9/runpy.py\", line 197, in _run_module_as_main\n      return _run_code(code, main_globals, None,\n    File \"/Users/idriod/opt/anaconda3/lib/python3.9/runpy.py\", line 87, in _run_code\n      exec(code, run_globals)\n    File \"/Users/idriod/opt/anaconda3/lib/python3.9/site-packages/ipykernel_launcher.py\", line 16, in <module>\n      app.launch_new_instance()\n    File \"/Users/idriod/opt/anaconda3/lib/python3.9/site-packages/traitlets/config/application.py\", line 846, in launch_instance\n      app.start()\n    File \"/Users/idriod/opt/anaconda3/lib/python3.9/site-packages/ipykernel/kernelapp.py\", line 677, in start\n      self.io_loop.start()\n    File \"/Users/idriod/opt/anaconda3/lib/python3.9/site-packages/tornado/platform/asyncio.py\", line 199, in start\n      self.asyncio_loop.run_forever()\n    File \"/Users/idriod/opt/anaconda3/lib/python3.9/asyncio/base_events.py\", line 596, in run_forever\n      self._run_once()\n    File \"/Users/idriod/opt/anaconda3/lib/python3.9/asyncio/base_events.py\", line 1890, in _run_once\n      handle._run()\n    File \"/Users/idriod/opt/anaconda3/lib/python3.9/asyncio/events.py\", line 80, in _run\n      self._context.run(self._callback, *self._args)\n    File \"/Users/idriod/opt/anaconda3/lib/python3.9/site-packages/ipykernel/kernelbase.py\", line 457, in dispatch_queue\n      await self.process_one()\n    File \"/Users/idriod/opt/anaconda3/lib/python3.9/site-packages/ipykernel/kernelbase.py\", line 446, in process_one\n      await dispatch(*args)\n    File \"/Users/idriod/opt/anaconda3/lib/python3.9/site-packages/ipykernel/kernelbase.py\", line 353, in dispatch_shell\n      await result\n    File \"/Users/idriod/opt/anaconda3/lib/python3.9/site-packages/ipykernel/kernelbase.py\", line 648, in execute_request\n      reply_content = await reply_content\n    File \"/Users/idriod/opt/anaconda3/lib/python3.9/site-packages/ipykernel/ipkernel.py\", line 353, in do_execute\n      res = shell.run_cell(code, store_history=store_history, silent=silent)\n    File \"/Users/idriod/opt/anaconda3/lib/python3.9/site-packages/ipykernel/zmqshell.py\", line 533, in run_cell\n      return super(ZMQInteractiveShell, self).run_cell(*args, **kwargs)\n    File \"/Users/idriod/opt/anaconda3/lib/python3.9/site-packages/IPython/core/interactiveshell.py\", line 2901, in run_cell\n      result = self._run_cell(\n    File \"/Users/idriod/opt/anaconda3/lib/python3.9/site-packages/IPython/core/interactiveshell.py\", line 2947, in _run_cell\n      return runner(coro)\n    File \"/Users/idriod/opt/anaconda3/lib/python3.9/site-packages/IPython/core/async_helpers.py\", line 68, in _pseudo_sync_runner\n      coro.send(None)\n    File \"/Users/idriod/opt/anaconda3/lib/python3.9/site-packages/IPython/core/interactiveshell.py\", line 3172, in run_cell_async\n      has_raised = await self.run_ast_nodes(code_ast.body, cell_name,\n    File \"/Users/idriod/opt/anaconda3/lib/python3.9/site-packages/IPython/core/interactiveshell.py\", line 3364, in run_ast_nodes\n      if (await self.run_code(code, result,  async_=asy)):\n    File \"/Users/idriod/opt/anaconda3/lib/python3.9/site-packages/IPython/core/interactiveshell.py\", line 3444, in run_code\n      exec(code_obj, self.user_global_ns, self.user_ns)\n    File \"/var/folders/hh/qk4l6xwd65q9lfgxhl3nkd4w0000gn/T/ipykernel_814/1533788128.py\", line 1, in <module>\n      history = model.fit(X_train_vect, Y_train, batch_size=1024, epochs=8, validation_data=(X_test_vect, Y_test))\n    File \"/Users/idriod/opt/anaconda3/lib/python3.9/site-packages/keras/utils/traceback_utils.py\", line 64, in error_handler\n      return fn(*args, **kwargs)\n    File \"/Users/idriod/opt/anaconda3/lib/python3.9/site-packages/keras/engine/training.py\", line 1384, in fit\n      tmp_logs = self.train_function(iterator)\n    File \"/Users/idriod/opt/anaconda3/lib/python3.9/site-packages/keras/engine/training.py\", line 1021, in train_function\n      return step_function(self, iterator)\n    File \"/Users/idriod/opt/anaconda3/lib/python3.9/site-packages/keras/engine/training.py\", line 1010, in step_function\n      outputs = model.distribute_strategy.run(run_step, args=(data,))\n    File \"/Users/idriod/opt/anaconda3/lib/python3.9/site-packages/keras/engine/training.py\", line 1000, in run_step\n      outputs = model.train_step(data)\n    File \"/Users/idriod/opt/anaconda3/lib/python3.9/site-packages/keras/engine/training.py\", line 860, in train_step\n      loss = self.compute_loss(x, y, y_pred, sample_weight)\n    File \"/Users/idriod/opt/anaconda3/lib/python3.9/site-packages/keras/engine/training.py\", line 918, in compute_loss\n      return self.compiled_loss(\n    File \"/Users/idriod/opt/anaconda3/lib/python3.9/site-packages/keras/engine/compile_utils.py\", line 201, in __call__\n      loss_value = loss_obj(y_t, y_p, sample_weight=sw)\n    File \"/Users/idriod/opt/anaconda3/lib/python3.9/site-packages/keras/losses.py\", line 141, in __call__\n      losses = call_fn(y_true, y_pred)\n    File \"/Users/idriod/opt/anaconda3/lib/python3.9/site-packages/keras/losses.py\", line 245, in call\n      return ag_fn(y_true, y_pred, **self._fn_kwargs)\n    File \"/Users/idriod/opt/anaconda3/lib/python3.9/site-packages/keras/losses.py\", line 1862, in sparse_categorical_crossentropy\n      return backend.sparse_categorical_crossentropy(\n    File \"/Users/idriod/opt/anaconda3/lib/python3.9/site-packages/keras/backend.py\", line 5202, in sparse_categorical_crossentropy\n      res = tf.nn.sparse_softmax_cross_entropy_with_logits(\nNode: 'sparse_categorical_crossentropy/SparseSoftmaxCrossEntropyWithLogits/SparseSoftmaxCrossEntropyWithLogits'\nReceived a label value of -1 which is outside the valid range of [0, 6).  Label values: 0 0 -1 4 3 -1 -1 0 0 3 3 -1 0 -1 -1 2 0 -1 0 0 0 0 0 0 3 3 -1 -1 0 2 0 -1 2 1 0 3 4 2 1 1 1 1 0 0 0 0 3 3 3 3 2 -1 -1 0 -1 -1 0 3 0 0 2 -1 3 0 1 0 0 -1 -1 3 0 3 4 4 0 0 0 0 0 0 -1 0 1 1 -1 0 0 1 -1 0 0 0 1 -1 0 -1 2 -1 0 0 -1 3 -1 0 -1 0 1 -1 -1 0 -1 0 0 2 2 2 -1 1 1 3 0 4 -1 -1 -1 -1 -1 -1 0 3 0 -1 2 0 -1 -1 2 0 0 -1 -1 -1 0 -1 2 -1 -1 2 0 -1 -1 2 3 0 -1 3 0 0 -1 0 2 2 -1 -1 1 2 0 2 3 3 2 0 0 4 0 0 -1 -1 0 2 2 0 1 0 2 0 2 1 3 -1 4 3 -1 1 -1 0 2 0 2 1 1 3 -1 3 2 -1 0 3 0 3 -1 0 0 -1 2 -1 3 -1 0 0 0 0 2 4 0 -1 -1 -1 -1 0 2 3 -1 1 1 3 0 4 1 0 0 0 0 -1 -1 0 2 -1 0 -1 1 -1 3 0 -1 3 -1 3 0 2 4 2 0 -1 2 0 2 0 -1 1 -1 0 0 4 4 3 -1 -1 2 2 2 -1 -1 3 0 -1 1 -1 -1 -1 1 0 0 -1 3 -1 2 3 1 -1 1 0 -1 0 2 2 0 3 0 0 2 1 3 3 0 1 2 0 0 -1 2 -1 3 4 0 0 -1 0 -1 -1 -1 3 2 3 -1 0 0 2 1 0 0 2 3 2 3 -1 2 0 0 -1 3 2 0 -1 0 0 0 -1 0 1 3 0 0 0 0 1 -1 3 0 -1 -1 2 -1 -1 0 2 -1 2 3 -1 4 2 2 -1 2 0 -1 0 3 -1 0 0 3 0 -1 3 0 0 -1 0 -1 1 -1 0 0 3 0 0 3 0 0 -1 3 2 -1 -1 0 2 2 1 1 0 1 3 2 2 4 -1 -1 2 0 0 0 2 -1 0 0 0 3 2 -1 0 2 0 0 0 2 2 -1 0 0 3 -1 0 1 -1 0 3 -1 0 -1 3 0 4 3 -1 3 -1 -1 0 -1 2 0 1 0 0 4 0 0 -1 -1 -1 0 0 -1 -1 0 2 0 -1 0 -1 0 -1 0 0 1 -1 4 -1 -1 -1 -1 2 -1 0 0 -1 3 2 -1 0 0 -1 3 -1 0 -1 0 1 3 2 2 -1 -1 0 3 1 -1 2 0 2 -1 0 -1 0 0 0 0 -1 0 0 3 -1 2 0 2 0 3 -1 3 0 -1 -1 0 2 0 -1 -1 1 0 0 1 4 0 0 -1 3 3 2 4 4 1 0 3 0 -1 0 0 -1 0 -1 -1 -1 0 2 0 0 -1 0 -1 0 0 4 0 2 0 -1 3 0 0 -1 0 -1 0 0 -1 3 -1 0 0 0 -1 -1 3 0 3 1 3 -1 3 0 -1 3 3 3 0 3 3 0 3 2 0 0 -1 0 2 -1 -1 -1 -1 -1 3 0 0 3 -1 3 3 -1 0 0 2 -1 -1 -1 0 2 0 2 -1 2 0 0 -1 0 3 -1 3 -1 0 2 0 3 0 -1 -1 0 -1 -1 3 -1 3 -1 0 0 1 0 -1 0 -1 0 0 1 0 0 0 0 2 0 -1 0 -1 -1 1 1 0 0 0 2 2 0 3 -1 -1 0 0 -1 -1 -1 4 0 -1 -1 0 4 2 -1 0 -1 0 4 -1 2 1 -1 0 3 0 -1 -1 0 -1 0 2 -1 2 3 0 0 2 0 4 -1 0 -1 2 1 -1 0 2 3 3 3 3 0 3 -1 0 3 0 3 2 0 0 0 2 -1 -1 -1 0 0 0 1 1 -1 3 0 2 -1 0 3 1 -1 -1 3 3 3 -1 -1 -1 1 -1 0 0 0 2 -1 1 0 1 1 -1 -1 0 2 0 0 0 0 2 0 -1 2 0 0 -1 1 -1 -1 0 -1 -1 0 -1 3 2 -1 3 0 0 2 -1 2 2 -1 3 -1 2 3 2 0 2 -1 3 3 0 0 -1 -1 0 0 2 -1 3 0 0 2 -1 2 0 0 0 0 2 -1 -1 -1 -1 0 -1 3 3 3 -1 3 0 2 2 0 -1 1 0 -1 2 0 -1 -1 -1 -1 1 1 1 3 3 -1 0 4 0 3 4 -1 2 0 0 0 0 -1 0 3 0 4 -1 -1 1 4 0 0 -1 -1 3 2 0 0 -1 0 0 3 2 -1 0 -1 -1 -1 -1 3 2 2 -1 -1 1 3 1 1 1 -1 2 -1 -1 1 0 3 3 0 0 -1 3 -1 4 1 4 0 2 2 0 0 1 -1 2 0 0 2 4 3 -1 3 -1 1 0 4 0 3 0 3 0 3 0 2 0 -1 2 3 0 0 -1 3 1 0 0 0 1 2 4 2 0 1 0 1 0 3 0 -1 0 2\n\t [[{{node sparse_categorical_crossentropy/SparseSoftmaxCrossEntropyWithLogits/SparseSoftmaxCrossEntropyWithLogits}}]] [Op:__inference_train_function_732]"
     ]
    }
   ],
   "source": [
    "history = model.fit(X_train_vect, Y_train, batch_size=1024, epochs=8, validation_data=(X_test_vect, Y_test))"
   ]
  },
  {
   "cell_type": "markdown",
   "metadata": {},
   "source": [
    "\n",
    "# ---------------------------NOT YET----------------------------"
   ]
  },
  {
   "cell_type": "markdown",
   "metadata": {},
   "source": [
    "# Creating Dataframes from Second Dataset"
   ]
  },
  {
   "cell_type": "code",
   "execution_count": 8,
   "metadata": {},
   "outputs": [
    {
     "data": {
      "text/html": [
       "<div>\n",
       "<style scoped>\n",
       "    .dataframe tbody tr th:only-of-type {\n",
       "        vertical-align: middle;\n",
       "    }\n",
       "\n",
       "    .dataframe tbody tr th {\n",
       "        vertical-align: top;\n",
       "    }\n",
       "\n",
       "    .dataframe thead th {\n",
       "        text-align: right;\n",
       "    }\n",
       "</style>\n",
       "<table border=\"1\" class=\"dataframe\">\n",
       "  <thead>\n",
       "    <tr style=\"text-align: right;\">\n",
       "      <th></th>\n",
       "      <th>text</th>\n",
       "      <th>emotions</th>\n",
       "    </tr>\n",
       "  </thead>\n",
       "  <tbody>\n",
       "    <tr>\n",
       "      <th>0</th>\n",
       "      <td>i feel awful about it too because it s my job ...</td>\n",
       "      <td>sadness</td>\n",
       "    </tr>\n",
       "    <tr>\n",
       "      <th>1</th>\n",
       "      <td>im alone i feel awful</td>\n",
       "      <td>sadness</td>\n",
       "    </tr>\n",
       "    <tr>\n",
       "      <th>2</th>\n",
       "      <td>ive probably mentioned this before but i reall...</td>\n",
       "      <td>joy</td>\n",
       "    </tr>\n",
       "    <tr>\n",
       "      <th>3</th>\n",
       "      <td>i was feeling a little low few days back</td>\n",
       "      <td>sadness</td>\n",
       "    </tr>\n",
       "    <tr>\n",
       "      <th>4</th>\n",
       "      <td>i beleive that i am much more sensitive to oth...</td>\n",
       "      <td>love</td>\n",
       "    </tr>\n",
       "  </tbody>\n",
       "</table>\n",
       "</div>"
      ],
      "text/plain": [
       "                                                text emotions\n",
       "0  i feel awful about it too because it s my job ...  sadness\n",
       "1                              im alone i feel awful  sadness\n",
       "2  ive probably mentioned this before but i reall...      joy\n",
       "3           i was feeling a little low few days back  sadness\n",
       "4  i beleive that i am much more sensitive to oth...     love"
      ]
     },
     "execution_count": 8,
     "metadata": {},
     "output_type": "execute_result"
    }
   ],
   "source": [
    "data =pickle.load(open('data/second_data/merged_training.pkl','rb'))\n",
    "new_df = pd.DataFrame(data).reset_index(drop=True)\n",
    "new_df.head()"
   ]
  },
  {
   "cell_type": "markdown",
   "metadata": {},
   "source": [
    "# EDA on Second Dataset"
   ]
  },
  {
   "cell_type": "code",
   "execution_count": 9,
   "metadata": {},
   "outputs": [
    {
     "data": {
      "text/plain": [
       "<AxesSubplot:xlabel='emotions', ylabel='count'>"
      ]
     },
     "execution_count": 9,
     "metadata": {},
     "output_type": "execute_result"
    },
    {
     "data": {
      "image/png": "[encoded data removed]",
      "text/plain": [
       "<Figure size 432x288 with 1 Axes>"
      ]
     },
     "metadata": {
      "needs_background": "light"
     },
     "output_type": "display_data"
    }
   ],
   "source": [
    "sns.countplot(x=new_df['emotions'])"
   ]
  },
  {
   "cell_type": "code",
   "execution_count": 10,
   "metadata": {},
   "outputs": [
    {
     "data": {
      "text/plain": [
       "joy         141067\n",
       "sadness     121187\n",
       "anger        57317\n",
       "fear         47712\n",
       "love         34554\n",
       "surprise     14972\n",
       "Name: emotions, dtype: int64"
      ]
     },
     "execution_count": 10,
     "metadata": {},
     "output_type": "execute_result"
    }
   ],
   "source": [
    "new_df['emotions'].value_counts()"
   ]
  },
  {
   "cell_type": "markdown",
   "metadata": {},
   "source": [
    "# Testing on Second Dataset with Bag of Words Vectorizer and Multinomial Naive Bayes Classifier"
   ]
  },
  {
   "cell_type": "code",
   "execution_count": 11,
   "metadata": {},
   "outputs": [
    {
     "data": {
      "text/plain": [
       "(10000, 2)"
      ]
     },
     "metadata": {},
     "output_type": "display_data"
    },
    {
     "data": {
      "text/html": [
       "<div>\n",
       "<style scoped>\n",
       "    .dataframe tbody tr th:only-of-type {\n",
       "        vertical-align: middle;\n",
       "    }\n",
       "\n",
       "    .dataframe tbody tr th {\n",
       "        vertical-align: top;\n",
       "    }\n",
       "\n",
       "    .dataframe thead th {\n",
       "        text-align: right;\n",
       "    }\n",
       "</style>\n",
       "<table border=\"1\" class=\"dataframe\">\n",
       "  <thead>\n",
       "    <tr style=\"text-align: right;\">\n",
       "      <th></th>\n",
       "      <th>text</th>\n",
       "      <th>emotions</th>\n",
       "    </tr>\n",
       "  </thead>\n",
       "  <tbody>\n",
       "    <tr>\n",
       "      <th>0</th>\n",
       "      <td>i feel awful about it too because it s my job ...</td>\n",
       "      <td>sadness</td>\n",
       "    </tr>\n",
       "    <tr>\n",
       "      <th>1</th>\n",
       "      <td>im alone i feel awful</td>\n",
       "      <td>sadness</td>\n",
       "    </tr>\n",
       "    <tr>\n",
       "      <th>2</th>\n",
       "      <td>i was feeling a little low few days back</td>\n",
       "      <td>sadness</td>\n",
       "    </tr>\n",
       "    <tr>\n",
       "      <th>3</th>\n",
       "      <td>i also feel disillusioned that someone who cla...</td>\n",
       "      <td>sadness</td>\n",
       "    </tr>\n",
       "    <tr>\n",
       "      <th>4</th>\n",
       "      <td>i wish you knew every word i write i write for...</td>\n",
       "      <td>sadness</td>\n",
       "    </tr>\n",
       "  </tbody>\n",
       "</table>\n",
       "</div>"
      ],
      "text/plain": [
       "                                                text emotions\n",
       "0  i feel awful about it too because it s my job ...  sadness\n",
       "1                              im alone i feel awful  sadness\n",
       "2           i was feeling a little low few days back  sadness\n",
       "3  i also feel disillusioned that someone who cla...  sadness\n",
       "4  i wish you knew every word i write i write for...  sadness"
      ]
     },
     "metadata": {},
     "output_type": "display_data"
    },
    {
     "data": {
      "text/plain": [
       "(10000, 2)"
      ]
     },
     "metadata": {},
     "output_type": "display_data"
    },
    {
     "data": {
      "text/html": [
       "<div>\n",
       "<style scoped>\n",
       "    .dataframe tbody tr th:only-of-type {\n",
       "        vertical-align: middle;\n",
       "    }\n",
       "\n",
       "    .dataframe tbody tr th {\n",
       "        vertical-align: top;\n",
       "    }\n",
       "\n",
       "    .dataframe thead th {\n",
       "        text-align: right;\n",
       "    }\n",
       "</style>\n",
       "<table border=\"1\" class=\"dataframe\">\n",
       "  <thead>\n",
       "    <tr style=\"text-align: right;\">\n",
       "      <th></th>\n",
       "      <th>text</th>\n",
       "      <th>emotions</th>\n",
       "    </tr>\n",
       "  </thead>\n",
       "  <tbody>\n",
       "    <tr>\n",
       "      <th>0</th>\n",
       "      <td>ive probably mentioned this before but i reall...</td>\n",
       "      <td>joy</td>\n",
       "    </tr>\n",
       "    <tr>\n",
       "      <th>1</th>\n",
       "      <td>i am one of those people who feels like going ...</td>\n",
       "      <td>joy</td>\n",
       "    </tr>\n",
       "    <tr>\n",
       "      <th>2</th>\n",
       "      <td>i feel especially pleased about this as this h...</td>\n",
       "      <td>joy</td>\n",
       "    </tr>\n",
       "    <tr>\n",
       "      <th>3</th>\n",
       "      <td>i was struggling with these awful feelings and...</td>\n",
       "      <td>joy</td>\n",
       "    </tr>\n",
       "    <tr>\n",
       "      <th>4</th>\n",
       "      <td>i mean is on this stupid trip of making the gr...</td>\n",
       "      <td>joy</td>\n",
       "    </tr>\n",
       "  </tbody>\n",
       "</table>\n",
       "</div>"
      ],
      "text/plain": [
       "                                                text emotions\n",
       "0  ive probably mentioned this before but i reall...      joy\n",
       "1  i am one of those people who feels like going ...      joy\n",
       "2  i feel especially pleased about this as this h...      joy\n",
       "3  i was struggling with these awful feelings and...      joy\n",
       "4  i mean is on this stupid trip of making the gr...      joy"
      ]
     },
     "metadata": {},
     "output_type": "display_data"
    },
    {
     "data": {
      "text/plain": [
       "(10000, 2)"
      ]
     },
     "metadata": {},
     "output_type": "display_data"
    },
    {
     "data": {
      "text/html": [
       "<div>\n",
       "<style scoped>\n",
       "    .dataframe tbody tr th:only-of-type {\n",
       "        vertical-align: middle;\n",
       "    }\n",
       "\n",
       "    .dataframe tbody tr th {\n",
       "        vertical-align: top;\n",
       "    }\n",
       "\n",
       "    .dataframe thead th {\n",
       "        text-align: right;\n",
       "    }\n",
       "</style>\n",
       "<table border=\"1\" class=\"dataframe\">\n",
       "  <thead>\n",
       "    <tr style=\"text-align: right;\">\n",
       "      <th></th>\n",
       "      <th>text</th>\n",
       "      <th>emotions</th>\n",
       "    </tr>\n",
       "  </thead>\n",
       "  <tbody>\n",
       "    <tr>\n",
       "      <th>0</th>\n",
       "      <td>i beleive that i am much more sensitive to oth...</td>\n",
       "      <td>love</td>\n",
       "    </tr>\n",
       "    <tr>\n",
       "      <th>1</th>\n",
       "      <td>i find myself frustrated with christians becau...</td>\n",
       "      <td>love</td>\n",
       "    </tr>\n",
       "    <tr>\n",
       "      <th>2</th>\n",
       "      <td>i feel blessed everyday for our little man and...</td>\n",
       "      <td>love</td>\n",
       "    </tr>\n",
       "    <tr>\n",
       "      <th>3</th>\n",
       "      <td>i alternate between feeling sympathetic toward...</td>\n",
       "      <td>love</td>\n",
       "    </tr>\n",
       "    <tr>\n",
       "      <th>4</th>\n",
       "      <td>i feel passionate about today because of him</td>\n",
       "      <td>love</td>\n",
       "    </tr>\n",
       "  </tbody>\n",
       "</table>\n",
       "</div>"
      ],
      "text/plain": [
       "                                                text emotions\n",
       "0  i beleive that i am much more sensitive to oth...     love\n",
       "1  i find myself frustrated with christians becau...     love\n",
       "2  i feel blessed everyday for our little man and...     love\n",
       "3  i alternate between feeling sympathetic toward...     love\n",
       "4       i feel passionate about today because of him     love"
      ]
     },
     "metadata": {},
     "output_type": "display_data"
    },
    {
     "data": {
      "text/plain": [
       "(10000, 2)"
      ]
     },
     "metadata": {},
     "output_type": "display_data"
    },
    {
     "data": {
      "text/html": [
       "<div>\n",
       "<style scoped>\n",
       "    .dataframe tbody tr th:only-of-type {\n",
       "        vertical-align: middle;\n",
       "    }\n",
       "\n",
       "    .dataframe tbody tr th {\n",
       "        vertical-align: top;\n",
       "    }\n",
       "\n",
       "    .dataframe thead th {\n",
       "        text-align: right;\n",
       "    }\n",
       "</style>\n",
       "<table border=\"1\" class=\"dataframe\">\n",
       "  <thead>\n",
       "    <tr style=\"text-align: right;\">\n",
       "      <th></th>\n",
       "      <th>text</th>\n",
       "      <th>emotions</th>\n",
       "    </tr>\n",
       "  </thead>\n",
       "  <tbody>\n",
       "    <tr>\n",
       "      <th>0</th>\n",
       "      <td>i feel so enraged but helpless at the same time</td>\n",
       "      <td>anger</td>\n",
       "    </tr>\n",
       "    <tr>\n",
       "      <th>1</th>\n",
       "      <td>i said feeling a bit rebellious</td>\n",
       "      <td>anger</td>\n",
       "    </tr>\n",
       "    <tr>\n",
       "      <th>2</th>\n",
       "      <td>i woke up feeling particularly vile tried to i...</td>\n",
       "      <td>anger</td>\n",
       "    </tr>\n",
       "    <tr>\n",
       "      <th>3</th>\n",
       "      <td>i could feel the vile moth burrowing its way i...</td>\n",
       "      <td>anger</td>\n",
       "    </tr>\n",
       "    <tr>\n",
       "      <th>4</th>\n",
       "      <td>i have a pretty bad feeling the last two books...</td>\n",
       "      <td>anger</td>\n",
       "    </tr>\n",
       "  </tbody>\n",
       "</table>\n",
       "</div>"
      ],
      "text/plain": [
       "                                                text emotions\n",
       "0    i feel so enraged but helpless at the same time    anger\n",
       "1                    i said feeling a bit rebellious    anger\n",
       "2  i woke up feeling particularly vile tried to i...    anger\n",
       "3  i could feel the vile moth burrowing its way i...    anger\n",
       "4  i have a pretty bad feeling the last two books...    anger"
      ]
     },
     "metadata": {},
     "output_type": "display_data"
    },
    {
     "data": {
      "text/plain": [
       "(10000, 2)"
      ]
     },
     "metadata": {},
     "output_type": "display_data"
    },
    {
     "data": {
      "text/html": [
       "<div>\n",
       "<style scoped>\n",
       "    .dataframe tbody tr th:only-of-type {\n",
       "        vertical-align: middle;\n",
       "    }\n",
       "\n",
       "    .dataframe tbody tr th {\n",
       "        vertical-align: top;\n",
       "    }\n",
       "\n",
       "    .dataframe thead th {\n",
       "        text-align: right;\n",
       "    }\n",
       "</style>\n",
       "<table border=\"1\" class=\"dataframe\">\n",
       "  <thead>\n",
       "    <tr style=\"text-align: right;\">\n",
       "      <th></th>\n",
       "      <th>text</th>\n",
       "      <th>emotions</th>\n",
       "    </tr>\n",
       "  </thead>\n",
       "  <tbody>\n",
       "    <tr>\n",
       "      <th>0</th>\n",
       "      <td>i feel weird knowing mine died when i wasn t a...</td>\n",
       "      <td>fear</td>\n",
       "    </tr>\n",
       "    <tr>\n",
       "      <th>1</th>\n",
       "      <td>i don t like to feel uncomfortable with being ...</td>\n",
       "      <td>fear</td>\n",
       "    </tr>\n",
       "    <tr>\n",
       "      <th>2</th>\n",
       "      <td>i apologize to him almost every day for my lac...</td>\n",
       "      <td>fear</td>\n",
       "    </tr>\n",
       "    <tr>\n",
       "      <th>3</th>\n",
       "      <td>i see things so clearly and with so much depth...</td>\n",
       "      <td>fear</td>\n",
       "    </tr>\n",
       "    <tr>\n",
       "      <th>4</th>\n",
       "      <td>i feel doubtful about my place in the world of...</td>\n",
       "      <td>fear</td>\n",
       "    </tr>\n",
       "  </tbody>\n",
       "</table>\n",
       "</div>"
      ],
      "text/plain": [
       "                                                text emotions\n",
       "0  i feel weird knowing mine died when i wasn t a...     fear\n",
       "1  i don t like to feel uncomfortable with being ...     fear\n",
       "2  i apologize to him almost every day for my lac...     fear\n",
       "3  i see things so clearly and with so much depth...     fear\n",
       "4  i feel doubtful about my place in the world of...     fear"
      ]
     },
     "metadata": {},
     "output_type": "display_data"
    },
    {
     "data": {
      "text/plain": [
       "(10000, 2)"
      ]
     },
     "metadata": {},
     "output_type": "display_data"
    },
    {
     "data": {
      "text/html": [
       "<div>\n",
       "<style scoped>\n",
       "    .dataframe tbody tr th:only-of-type {\n",
       "        vertical-align: middle;\n",
       "    }\n",
       "\n",
       "    .dataframe tbody tr th {\n",
       "        vertical-align: top;\n",
       "    }\n",
       "\n",
       "    .dataframe thead th {\n",
       "        text-align: right;\n",
       "    }\n",
       "</style>\n",
       "<table border=\"1\" class=\"dataframe\">\n",
       "  <thead>\n",
       "    <tr style=\"text-align: right;\">\n",
       "      <th></th>\n",
       "      <th>text</th>\n",
       "      <th>emotions</th>\n",
       "    </tr>\n",
       "  </thead>\n",
       "  <tbody>\n",
       "    <tr>\n",
       "      <th>0</th>\n",
       "      <td>i pretty much waddled out of the hospital feel...</td>\n",
       "      <td>surprise</td>\n",
       "    </tr>\n",
       "    <tr>\n",
       "      <th>1</th>\n",
       "      <td>i cant even imagine how my mom and her three y...</td>\n",
       "      <td>surprise</td>\n",
       "    </tr>\n",
       "    <tr>\n",
       "      <th>2</th>\n",
       "      <td>i would recommend watching them to feel amazed...</td>\n",
       "      <td>surprise</td>\n",
       "    </tr>\n",
       "    <tr>\n",
       "      <th>3</th>\n",
       "      <td>i feel that i have a really funny side that i ...</td>\n",
       "      <td>surprise</td>\n",
       "    </tr>\n",
       "    <tr>\n",
       "      <th>4</th>\n",
       "      <td>i can say that i feel amazed</td>\n",
       "      <td>surprise</td>\n",
       "    </tr>\n",
       "  </tbody>\n",
       "</table>\n",
       "</div>"
      ],
      "text/plain": [
       "                                                text  emotions\n",
       "0  i pretty much waddled out of the hospital feel...  surprise\n",
       "1  i cant even imagine how my mom and her three y...  surprise\n",
       "2  i would recommend watching them to feel amazed...  surprise\n",
       "3  i feel that i have a really funny side that i ...  surprise\n",
       "4                       i can say that i feel amazed  surprise"
      ]
     },
     "metadata": {},
     "output_type": "display_data"
    }
   ],
   "source": [
    "#Made a copy of the data frame\n",
    "new_df_10000_2 = new_df.copy()\n",
    "\n",
    "#Getting 10k Sadness\n",
    "sadness_df = new_df_10000_2[new_df_10000_2['emotions'] == 'sadness']\n",
    "sadness_df_10000 = sadness_df.iloc[:10000].reset_index(drop=True)\n",
    "display(sadness_df_10000.shape)\n",
    "display(sadness_df_10000.head())\n",
    "\n",
    "#Getting 10k Joy\n",
    "joy_df = new_df_10000_2[new_df_10000_2['emotions'] == 'joy']\n",
    "joy_df_10000 = joy_df.iloc[:10000].reset_index(drop=True)\n",
    "display(joy_df_10000.shape)\n",
    "display(joy_df_10000.head())\n",
    "\n",
    "#Getting 10k Love\n",
    "love_df = new_df_10000_2[new_df_10000_2['emotions'] == 'love']\n",
    "love_df_10000 = love_df.iloc[:10000].reset_index(drop=True)\n",
    "display(love_df_10000.shape)\n",
    "display(love_df_10000.head())\n",
    "\n",
    "#Getting 10k Anger\n",
    "anger_df = new_df_10000_2[new_df_10000_2['emotions'] == 'anger']\n",
    "anger_df_10000 = anger_df.iloc[:10000].reset_index(drop=True)\n",
    "display(anger_df_10000.shape)\n",
    "display(anger_df_10000.head())\n",
    "\n",
    "#Getting 10k Fear\n",
    "fear_df = new_df_10000_2[new_df_10000_2['emotions'] == 'fear']\n",
    "fear_df_10000 = fear_df.iloc[:10000].reset_index(drop=True)\n",
    "display(fear_df_10000.shape)\n",
    "display(fear_df_10000.head())\n",
    "\n",
    "#Getting 10k Surprise\n",
    "surprise_df = new_df_10000_2[new_df_10000_2['emotions'] == 'surprise']\n",
    "surprise_df_10000 = surprise_df.iloc[:10000].reset_index(drop=True)\n",
    "display(surprise_df_10000.shape)\n",
    "display(surprise_df_10000.head())"
   ]
  },
  {
   "cell_type": "code",
   "execution_count": 12,
   "metadata": {},
   "outputs": [
    {
     "data": {
      "image/png": "[encoded data removed]",
      "text/plain": [
       "<Figure size 432x288 with 1 Axes>"
      ]
     },
     "metadata": {
      "needs_background": "light"
     },
     "output_type": "display_data"
    }
   ],
   "source": [
    "#Concated all the serparted data frames of all the emotions and but them back together\n",
    "all_10k_df = pd.concat([sadness_df_10000, joy_df_10000, love_df_10000, anger_df_10000, fear_df_10000, surprise_df_10000])\n",
    "sns.countplot(x=all_10k_df['emotions'])\n",
    "plt.show()"
   ]
  },
  {
   "cell_type": "code",
   "execution_count": 13,
   "metadata": {},
   "outputs": [
    {
     "name": "stdout",
     "output_type": "stream",
     "text": [
      "Original text:  i feel awful about it too because it s my job to get him in a position to succeed and it just didn t happen here\n",
      "Cleaned test:  i feel awful about it too because it s my job to get him in a position to succeed and it just didn t happen here\n"
     ]
    }
   ],
   "source": [
    "#creating new column with cleaned up text\n",
    "all_10k_df['cleaned_text'] = all_10k_df['text'].apply(clean_tweets_without_nlp)\n",
    "print(\"Original text: \", all_10k_df.iloc[0]['text'])\n",
    "print(\"Cleaned test: \", all_10k_df.iloc[0]['cleaned_text'])"
   ]
  },
  {
   "cell_type": "code",
   "execution_count": 14,
   "metadata": {},
   "outputs": [
    {
     "name": "stdout",
     "output_type": "stream",
     "text": [
      "Original text:  i feel awful about it too because it s my job to get him in a position to succeed and it just didn t happen here\n",
      "Stemmed test:  feel aw job get posit succeed happen\n"
     ]
    }
   ],
   "source": [
    "#creating new column with stemmed cleaned up text\n",
    "all_10k_df['cleaned_text_stem'] = all_10k_df['text'].apply(clean_tweets_with_stem)\n",
    "print(\"Original text: \", all_10k_df.iloc[0]['text'])\n",
    "print(\"Stemmed test: \", all_10k_df.iloc[0]['cleaned_text_stem'])"
   ]
  },
  {
   "cell_type": "code",
   "execution_count": 15,
   "metadata": {},
   "outputs": [
    {
     "name": "stdout",
     "output_type": "stream",
     "text": [
      "Original text:  i feel awful about it too because it s my job to get him in a position to succeed and it just didn t happen here\n",
      "Lemmized test:  feel awful job get position succeed happen\n"
     ]
    }
   ],
   "source": [
    "#creating new colum with lemmzed cleaned up text\n",
    "all_10k_df['cleaned_text_lem'] = all_10k_df['text'].apply(clean_tweets_with_lem)\n",
    "print(\"Original text: \", all_10k_df.iloc[0]['text'])\n",
    "print(\"Lemmized test: \", all_10k_df.iloc[0]['cleaned_text_lem'])"
   ]
  },
  {
   "cell_type": "code",
   "execution_count": 16,
   "metadata": {},
   "outputs": [
    {
     "data": {
      "text/html": [
       "<div>\n",
       "<style scoped>\n",
       "    .dataframe tbody tr th:only-of-type {\n",
       "        vertical-align: middle;\n",
       "    }\n",
       "\n",
       "    .dataframe tbody tr th {\n",
       "        vertical-align: top;\n",
       "    }\n",
       "\n",
       "    .dataframe thead th {\n",
       "        text-align: right;\n",
       "    }\n",
       "</style>\n",
       "<table border=\"1\" class=\"dataframe\">\n",
       "  <thead>\n",
       "    <tr style=\"text-align: right;\">\n",
       "      <th></th>\n",
       "      <th>text</th>\n",
       "      <th>emotions</th>\n",
       "      <th>cleaned_text</th>\n",
       "      <th>cleaned_text_stem</th>\n",
       "      <th>cleaned_text_lem</th>\n",
       "    </tr>\n",
       "  </thead>\n",
       "  <tbody>\n",
       "    <tr>\n",
       "      <th>0</th>\n",
       "      <td>i feel awful about it too because it s my job ...</td>\n",
       "      <td>sadness</td>\n",
       "      <td>i feel awful about it too because it s my job ...</td>\n",
       "      <td>feel aw job get posit succeed happen</td>\n",
       "      <td>feel awful job get position succeed happen</td>\n",
       "    </tr>\n",
       "    <tr>\n",
       "      <th>1</th>\n",
       "      <td>im alone i feel awful</td>\n",
       "      <td>sadness</td>\n",
       "      <td>im alone i feel awful</td>\n",
       "      <td>im alon feel aw</td>\n",
       "      <td>im alone feel awful</td>\n",
       "    </tr>\n",
       "    <tr>\n",
       "      <th>2</th>\n",
       "      <td>i was feeling a little low few days back</td>\n",
       "      <td>sadness</td>\n",
       "      <td>i was feeling a little low few days back</td>\n",
       "      <td>feel littl low day back</td>\n",
       "      <td>feeling little low day back</td>\n",
       "    </tr>\n",
       "    <tr>\n",
       "      <th>3</th>\n",
       "      <td>i also feel disillusioned that someone who cla...</td>\n",
       "      <td>sadness</td>\n",
       "      <td>i also feel disillusioned that someone who cla...</td>\n",
       "      <td>also feel disillus someon claim valu truth fraud</td>\n",
       "      <td>also feel disillusioned someone claimed value ...</td>\n",
       "    </tr>\n",
       "    <tr>\n",
       "      <th>4</th>\n",
       "      <td>i wish you knew every word i write i write for...</td>\n",
       "      <td>sadness</td>\n",
       "      <td>i wish you knew every word i write i write for...</td>\n",
       "      <td>wish knew everi word write write think useless...</td>\n",
       "      <td>wish knew every word write write think useless...</td>\n",
       "    </tr>\n",
       "  </tbody>\n",
       "</table>\n",
       "</div>"
      ],
      "text/plain": [
       "                                                text emotions  \\\n",
       "0  i feel awful about it too because it s my job ...  sadness   \n",
       "1                              im alone i feel awful  sadness   \n",
       "2           i was feeling a little low few days back  sadness   \n",
       "3  i also feel disillusioned that someone who cla...  sadness   \n",
       "4  i wish you knew every word i write i write for...  sadness   \n",
       "\n",
       "                                        cleaned_text  \\\n",
       "0  i feel awful about it too because it s my job ...   \n",
       "1                              im alone i feel awful   \n",
       "2           i was feeling a little low few days back   \n",
       "3  i also feel disillusioned that someone who cla...   \n",
       "4  i wish you knew every word i write i write for...   \n",
       "\n",
       "                                   cleaned_text_stem  \\\n",
       "0               feel aw job get posit succeed happen   \n",
       "1                                    im alon feel aw   \n",
       "2                            feel littl low day back   \n",
       "3   also feel disillus someon claim valu truth fraud   \n",
       "4  wish knew everi word write write think useless...   \n",
       "\n",
       "                                    cleaned_text_lem  \n",
       "0         feel awful job get position succeed happen  \n",
       "1                                im alone feel awful  \n",
       "2                        feeling little low day back  \n",
       "3  also feel disillusioned someone claimed value ...  \n",
       "4  wish knew every word write write think useless...  "
      ]
     },
     "execution_count": 16,
     "metadata": {},
     "output_type": "execute_result"
    }
   ],
   "source": [
    "all_10k_df.head()"
   ]
  },
  {
   "cell_type": "markdown",
   "metadata": {},
   "source": [
    "# Testing CNN"
   ]
  },
  {
   "cell_type": "code",
   "execution_count": 26,
   "metadata": {},
   "outputs": [],
   "source": [
    "all_10k_df.columns #['text', 'label', 'cleaned_text', 'cleaned_text_stem', 'cleaned_text_lem']\n",
    "\n",
    "X = all_10k_df['cleaned_text'].values\n",
    "y = all_10k_df['emotions'].values"
   ]
  },
  {
   "cell_type": "code",
   "execution_count": 24,
   "metadata": {},
   "outputs": [
    {
     "data": {
      "text/plain": [
       "<60000x29838 sparse matrix of type '<class 'numpy.float64'>'\n",
       "\twith 945942 stored elements in Compressed Sparse Row format>"
      ]
     },
     "execution_count": 24,
     "metadata": {},
     "output_type": "execute_result"
    }
   ],
   "source": [
    "tfidf_vectorizer = TfidfVectorizer()\n",
    "X = tfidf_vectorizer.fit_transform(X)"
   ]
  },
  {
   "cell_type": "code",
   "execution_count": 17,
   "metadata": {},
   "outputs": [
    {
     "ename": "NameError",
     "evalue": "name 'X' is not defined",
     "output_type": "error",
     "traceback": [
      "\u001b[0;31m---------------------------------------------------------------------------\u001b[0m",
      "\u001b[0;31mNameError\u001b[0m                                 Traceback (most recent call last)",
      "\u001b[0;32m/var/folders/hh/qk4l6xwd65q9lfgxhl3nkd4w0000gn/T/ipykernel_814/748242919.py\u001b[0m in \u001b[0;36m<module>\u001b[0;34m\u001b[0m\n\u001b[0;32m----> 1\u001b[0;31m \u001b[0mX_train\u001b[0m\u001b[0;34m,\u001b[0m \u001b[0mX_test\u001b[0m\u001b[0;34m,\u001b[0m \u001b[0my_train\u001b[0m\u001b[0;34m,\u001b[0m \u001b[0my_test\u001b[0m \u001b[0;34m=\u001b[0m \u001b[0mtrain_test_split\u001b[0m\u001b[0;34m(\u001b[0m\u001b[0mX\u001b[0m\u001b[0;34m,\u001b[0m \u001b[0my\u001b[0m\u001b[0;34m,\u001b[0m \u001b[0mtest_size\u001b[0m\u001b[0;34m=\u001b[0m\u001b[0;36m0.2\u001b[0m\u001b[0;34m,\u001b[0m \u001b[0mrandom_state\u001b[0m \u001b[0;34m=\u001b[0m \u001b[0;36m42\u001b[0m\u001b[0;34m)\u001b[0m\u001b[0;34m\u001b[0m\u001b[0;34m\u001b[0m\u001b[0m\n\u001b[0m",
      "\u001b[0;31mNameError\u001b[0m: name 'X' is not defined"
     ]
    }
   ],
   "source": [
    "X_train, X_test, y_train, y_test = train_test_split(X, y, test_size=0.2, random_state = 42)"
   ]
  },
  {
   "cell_type": "code",
   "execution_count": null,
   "metadata": {},
   "outputs": [],
   "source": [
    "max_tokens = X.shape[1]\n",
    "embed_len = 128\n",
    "target_classes = all_10k_df['emotions'].unique()\n",
    "\n",
    "inputs = Input(shape=(max_tokens, ))\n",
    "embeddings_layer = Embedding(input_dim=1000, output_dim=embed_len, input_length=max_tokens)\n",
    "conv = Conv1D(32, 7, padding=\"same\") ## Channels last\n",
    "dense = Dense(len(target_classes), activation=\"softmax\")\n",
    "\n",
    "x = embeddings_layer(inputs)\n",
    "x = conv(x)\n",
    "x = tensorflow.reduce_max(x, axis=1)\n",
    "output = dense(x)\n",
    "\n",
    "model = Model(inputs=inputs, outputs=output)\n",
    "\n",
    "model.summary()\n"
   ]
  },
  {
   "cell_type": "code",
   "execution_count": null,
   "metadata": {},
   "outputs": [],
   "source": [
    "model.compile(\"adam\", \"sparse_categorical_crossentropy\", metrics=[\"accuracy\"])"
   ]
  },
  {
   "cell_type": "code",
   "execution_count": null,
   "metadata": {},
   "outputs": [],
   "source": [
    "history = model.fit(X_train, y_train, batch_size=1024, epochs=8, validation_data=(X_test, y_test))"
   ]
  }
 ],
 "metadata": {
  "kernelspec": {
   "display_name": "Python 3 (ipykernel)",
   "language": "python",
   "name": "python3"
  },
  "language_info": {
   "codemirror_mode": {
    "name": "ipython",
    "version": 3
   },
   "file_extension": ".py",
   "mimetype": "text/x-python",
   "name": "python",
   "nbconvert_exporter": "python",
   "pygments_lexer": "ipython3",
   "version": "3.9.7"
  },
  "vscode": {
   "interpreter": {
    "hash": "b0fa6594d8f4cbf19f97940f81e996739fb7646882a419484c72d19e05852a7e"
   }
  }
 },
 "nbformat": 4,
 "nbformat_minor": 2
}
